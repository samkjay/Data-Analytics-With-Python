{
 "cells": [
  {
   "cell_type": "markdown",
   "metadata": {},
   "source": [
    "# Lesson 1 Class Exercises: NumPy Part 1"
   ]
  },
  {
   "cell_type": "code",
   "execution_count": 1,
   "metadata": {},
   "outputs": [],
   "source": [
    "import numpy as np"
   ]
  },
  {
   "cell_type": "markdown",
   "metadata": {},
   "source": [
    "## Exercise #1\n",
    "\n",
    "Write Python code to generate five random numbers from the normal distribution. \n",
    "\n",
    "Look at the online documentation for [NumPy random number generators](https://docs.scipy.org/doc/numpy-1.15.0/reference/routines.random.html)"
   ]
  },
  {
   "cell_type": "code",
   "execution_count": 12,
   "metadata": {},
   "outputs": [
    {
     "name": "stdout",
     "output_type": "stream",
     "text": [
      "[ 2.75364885  0.40098813 -3.49086088  1.93295956  2.62154936]\n"
     ]
    }
   ],
   "source": [
    "x = np.random.normal(loc = 1, scale = 2, size =5)\n",
    "print(x)"
   ]
  },
  {
   "cell_type": "markdown",
   "metadata": {},
   "source": [
    "## Exercise #2\n",
    "Write Python code to generate six random integers between 10 and 30\n",
    "\n",
    "Look at the online documentation for [NumPy random number generators](https://docs.scipy.org/doc/numpy-1.15.0/reference/routines.random.html)"
   ]
  },
  {
   "cell_type": "code",
   "execution_count": 16,
   "metadata": {},
   "outputs": [
    {
     "data": {
      "text/plain": [
       "array([14, 22, 12, 20, 17, 15])"
      ]
     },
     "execution_count": 16,
     "metadata": {},
     "output_type": "execute_result"
    }
   ],
   "source": [
    "np.random.randint(low =10, high = 30, size = 6 )"
   ]
  },
  {
   "cell_type": "markdown",
   "metadata": {},
   "source": [
    "## Exercise #3\n",
    "Write Python code to \n",
    "+ create a 5x5 array with random values\n",
    "+ print the array,  \n",
    "+ find and print the minimum and maximum values.\n"
   ]
  },
  {
   "cell_type": "code",
   "execution_count": 20,
   "metadata": {},
   "outputs": [
    {
     "name": "stdout",
     "output_type": "stream",
     "text": [
      "[[0.75352868 0.77829173 0.17273934 0.41487835 0.89534605]\n",
      " [0.1590672  0.95673823 0.12765095 0.57909159 0.22500149]\n",
      " [0.42957281 0.25926304 0.59418737 0.16630887 0.21418315]\n",
      " [0.3661577  0.0627989  0.17005284 0.26221064 0.24494533]\n",
      " [0.16798104 0.87400025 0.51685413 0.53794144 0.41117445]]\n",
      "0.0627989012548843\n",
      "0.9567382272099153\n"
     ]
    }
   ],
   "source": [
    "arr = np.random.random((5, 5))\n",
    "print(arr)\n",
    "print(np.amin(arr))\n",
    "print(np.amax(arr))"
   ]
  },
  {
   "cell_type": "markdown",
   "metadata": {},
   "source": [
    "## Exercise #4\n",
    "Write code using NumPy that would create a grid that could be used for the game of life.  Follow these criteria\n",
    "+ the grid must have 30 rows and 80 columns\n",
    "+ it must be initalized to zeros.\n",
    "+ print the grid dimensions to prove its size.\n",
    "+ print the grid to show it is initalized to zeros."
   ]
  },
  {
   "cell_type": "code",
   "execution_count": 26,
   "metadata": {},
   "outputs": [
    {
     "name": "stdout",
     "output_type": "stream",
     "text": [
      "[[0. 0. 0. ... 0. 0. 0.]\n",
      " [0. 0. 0. ... 0. 0. 0.]\n",
      " [0. 0. 0. ... 0. 0. 0.]\n",
      " ...\n",
      " [0. 0. 0. ... 0. 0. 0.]\n",
      " [0. 0. 0. ... 0. 0. 0.]\n",
      " [0. 0. 0. ... 0. 0. 0.]]\n"
     ]
    },
    {
     "data": {
      "text/plain": [
       "2"
      ]
     },
     "execution_count": 26,
     "metadata": {},
     "output_type": "execute_result"
    }
   ],
   "source": [
    "arr = np.zeros((30, 80))\n",
    "print(arr)\n",
    "np.ndim(arr)\n"
   ]
  },
  {
   "cell_type": "markdown",
   "metadata": {},
   "source": [
    "## Exercise #5\n",
    "Read the documentation about [genfromtxt()](https://docs.scipy.org/doc/numpy/reference/generated/numpy.genfromtxt.html) function of NumPy.  What does it do?  Do you understand what the arguments do?\n",
    "\n",
    "A file has been provided to you named data2.txt.  Be sure to place it in the same folder with this notebook.  It contains the following text:\n",
    "\n",
    "```\n",
    "Value1,Value2,Value3 \n",
    "0.4839,0.4536,0.3561 \n",
    "0.1292,0.6875,NA \n",
    "0.1781,0.3049,0.8928 \n",
    "NA,0.5801,0.2038 \n",
    "0.5993,0.4357,0.7410\n",
    "```\n",
    "Notice it has missing values.  Write some code that \n",
    "+ uses the `genfromtxt` function to read in this file into a numpy array.\n",
    "+ prints the resulting array."
   ]
  },
  {
   "cell_type": "code",
   "execution_count": 31,
   "metadata": {},
   "outputs": [
    {
     "data": {
      "text/plain": [
       "array([[0.4839, 0.4536, 0.3561],\n",
       "       [0.1292, 0.6875,    nan],\n",
       "       [0.1781, 0.3049, 0.8928],\n",
       "       [   nan, 0.5801, 0.2038],\n",
       "       [0.5993, 0.4357, 0.741 ]])"
      ]
     },
     "execution_count": 31,
     "metadata": {},
     "output_type": "execute_result"
    }
   ],
   "source": [
    "np.genfromtxt('./data2.txt', dtype = float, delimiter = \",\", skip_header = 1, missing_values=[\"NA\"])"
   ]
  },
  {
   "cell_type": "markdown",
   "metadata": {},
   "source": [
    "## Exercise #6\n",
    "Write some code that\n",
    "+ Creates an array of 100 rows and 10 columns filled with random values between 0 and 1\n",
    "+ Print the first 10 rows.\n",
    "+ Caculate the following statistics about each row and column\n",
    "  + mean, variance, standard deviation and quartiles of each row.\n",
    "  + print these values."
   ]
  },
  {
   "cell_type": "code",
   "execution_count": null,
   "metadata": {},
   "outputs": [],
   "source": []
  },
  {
   "cell_type": "markdown",
   "metadata": {},
   "source": [
    "## Exercise #7\n",
    "Write code that \n",
    "+ Create an array of 100 rows and 10 columns of integer values with the minimum number 0 and the maximum 10,000\n",
    "+ Print the first 10 rows of the matrix.\n",
    "+ Calculate values for a histogram with 10 bins. \n",
    "    + save in one variable the values of each bin\n",
    "    + save in another variable the value at the left edge of the bin."
   ]
  },
  {
   "cell_type": "code",
   "execution_count": null,
   "metadata": {},
   "outputs": [],
   "source": []
  }
 ],
 "metadata": {
  "kernelspec": {
   "display_name": "Python 3",
   "language": "python",
   "name": "python3"
  },
  "language_info": {
   "codemirror_mode": {
    "name": "ipython",
    "version": 3
   },
   "file_extension": ".py",
   "mimetype": "text/x-python",
   "name": "python",
   "nbconvert_exporter": "python",
   "pygments_lexer": "ipython3",
   "version": "3.8.5"
  }
 },
 "nbformat": 4,
 "nbformat_minor": 4
}
