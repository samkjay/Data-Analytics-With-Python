{
 "cells": [
  {
   "cell_type": "markdown",
   "metadata": {},
   "source": [
    "# Day 8 Class Exercises: Matplotlib"
   ]
  },
  {
   "cell_type": "markdown",
   "metadata": {},
   "source": [
    "These class exercises combine what we've leared with Numpy, Pandas and Matplotlib. You will need to use the data wrangling skills you have learned to make the plots.\n",
    "\n",
    "Additionally, with these class exercises we learn a few new things.  When new knowledge is introduced you'll see the icon shown on the right: \n",
    "<span style=\"float:right; margin-left:10px; clear:both;\">![Task](../media/new_knowledge.png)</span>\n",
    "\n",
    "## Get Started\n",
    "Import the Numpy, Pandas, Matplotlib packages and the Jupyter notebook Matplotlib magic"
   ]
  },
  {
   "cell_type": "code",
   "execution_count": 1,
   "metadata": {},
   "outputs": [],
   "source": [
    "import pandas as pd\n",
    "import numpy as np\n",
    "import matplotlib.pyplot as plt\n",
    "\n",
    "%matplotlib inline"
   ]
  },
  {
   "cell_type": "markdown",
   "metadata": {},
   "source": [
    "## Exercise 1. Load and clean the data for plotting"
   ]
  },
  {
   "cell_type": "markdown",
   "metadata": {},
   "source": [
    "Import the Real Minimum Wages dataset from https://raw.githubusercontent.com/QuantEcon/lecture-source-py/master/source/_static/lecture_specific/pandas_panel/realwage.csv"
   ]
  },
  {
   "cell_type": "code",
   "execution_count": 64,
   "metadata": {},
   "outputs": [
    {
     "data": {
      "text/html": [
       "<div>\n",
       "<style scoped>\n",
       "    .dataframe tbody tr th:only-of-type {\n",
       "        vertical-align: middle;\n",
       "    }\n",
       "\n",
       "    .dataframe tbody tr th {\n",
       "        vertical-align: top;\n",
       "    }\n",
       "\n",
       "    .dataframe thead th {\n",
       "        text-align: right;\n",
       "    }\n",
       "</style>\n",
       "<table border=\"1\" class=\"dataframe\">\n",
       "  <thead>\n",
       "    <tr style=\"text-align: right;\">\n",
       "      <th></th>\n",
       "      <th>Unnamed: 0</th>\n",
       "      <th>Time</th>\n",
       "      <th>Country</th>\n",
       "      <th>Series</th>\n",
       "      <th>Pay period</th>\n",
       "      <th>value</th>\n",
       "    </tr>\n",
       "  </thead>\n",
       "  <tbody>\n",
       "    <tr>\n",
       "      <th>0</th>\n",
       "      <td>0</td>\n",
       "      <td>2006-01-01</td>\n",
       "      <td>Ireland</td>\n",
       "      <td>In 2015 constant prices at 2015 USD PPPs</td>\n",
       "      <td>Annual</td>\n",
       "      <td>17132.443</td>\n",
       "    </tr>\n",
       "    <tr>\n",
       "      <th>1</th>\n",
       "      <td>1</td>\n",
       "      <td>2007-01-01</td>\n",
       "      <td>Ireland</td>\n",
       "      <td>In 2015 constant prices at 2015 USD PPPs</td>\n",
       "      <td>Annual</td>\n",
       "      <td>18100.918</td>\n",
       "    </tr>\n",
       "    <tr>\n",
       "      <th>2</th>\n",
       "      <td>2</td>\n",
       "      <td>2008-01-01</td>\n",
       "      <td>Ireland</td>\n",
       "      <td>In 2015 constant prices at 2015 USD PPPs</td>\n",
       "      <td>Annual</td>\n",
       "      <td>17747.406</td>\n",
       "    </tr>\n",
       "    <tr>\n",
       "      <th>3</th>\n",
       "      <td>3</td>\n",
       "      <td>2009-01-01</td>\n",
       "      <td>Ireland</td>\n",
       "      <td>In 2015 constant prices at 2015 USD PPPs</td>\n",
       "      <td>Annual</td>\n",
       "      <td>18580.139</td>\n",
       "    </tr>\n",
       "    <tr>\n",
       "      <th>4</th>\n",
       "      <td>4</td>\n",
       "      <td>2010-01-01</td>\n",
       "      <td>Ireland</td>\n",
       "      <td>In 2015 constant prices at 2015 USD PPPs</td>\n",
       "      <td>Annual</td>\n",
       "      <td>18755.832</td>\n",
       "    </tr>\n",
       "  </tbody>\n",
       "</table>\n",
       "</div>"
      ],
      "text/plain": [
       "   Unnamed: 0        Time  Country                                    Series  \\\n",
       "0           0  2006-01-01  Ireland  In 2015 constant prices at 2015 USD PPPs   \n",
       "1           1  2007-01-01  Ireland  In 2015 constant prices at 2015 USD PPPs   \n",
       "2           2  2008-01-01  Ireland  In 2015 constant prices at 2015 USD PPPs   \n",
       "3           3  2009-01-01  Ireland  In 2015 constant prices at 2015 USD PPPs   \n",
       "4           4  2010-01-01  Ireland  In 2015 constant prices at 2015 USD PPPs   \n",
       "\n",
       "  Pay period      value  \n",
       "0     Annual  17132.443  \n",
       "1     Annual  18100.918  \n",
       "2     Annual  17747.406  \n",
       "3     Annual  18580.139  \n",
       "4     Annual  18755.832  "
      ]
     },
     "execution_count": 64,
     "metadata": {},
     "output_type": "execute_result"
    }
   ],
   "source": [
    "wages = pd.read_csv(\"https://raw.githubusercontent.com/QuantEcon/lecture-source-py/master/source/_static/lecture_specific/pandas_panel/realwage.csv\")\n",
    "\n",
    "wages.head()"
   ]
  },
  {
   "cell_type": "markdown",
   "metadata": {},
   "source": [
    "Clean the data by performing the following:\n",
    "1. Add a new column containing just the year\n",
    "2. Drop rows with missing values\n",
    "3. Keep only rows in the series \"In 2015 constant prices at 2015 USD PPPs\"\n",
    "4. Keep only rows where the pay period is 'Annual'\n",
    "5. Drop unwanted columns: 'Unnamed: 0', 'Time' and 'Series'\n",
    "6. Rename the 'value' column as 'Salary'\n",
    "7. Reset the indexes"
   ]
  },
  {
   "cell_type": "code",
   "execution_count": 65,
   "metadata": {},
   "outputs": [],
   "source": [
    "# new column with the year\n",
    "wages['Year'] = pd.to_datetime(wages['Time']).dt.year\n"
   ]
  },
  {
   "cell_type": "code",
   "execution_count": 66,
   "metadata": {},
   "outputs": [],
   "source": [
    "#Drop rows with missing values\n",
    "wages.dropna(inplace = True)"
   ]
  },
  {
   "cell_type": "code",
   "execution_count": 67,
   "metadata": {},
   "outputs": [
    {
     "data": {
      "text/plain": [
       "Unnamed: 0    0\n",
       "Time          0\n",
       "Country       0\n",
       "Series        0\n",
       "Pay period    0\n",
       "value         0\n",
       "Year          0\n",
       "dtype: int64"
      ]
     },
     "execution_count": 67,
     "metadata": {},
     "output_type": "execute_result"
    }
   ],
   "source": [
    "wages.isna().sum()"
   ]
  },
  {
   "cell_type": "code",
   "execution_count": 68,
   "metadata": {},
   "outputs": [
    {
     "data": {
      "text/html": [
       "<div>\n",
       "<style scoped>\n",
       "    .dataframe tbody tr th:only-of-type {\n",
       "        vertical-align: middle;\n",
       "    }\n",
       "\n",
       "    .dataframe tbody tr th {\n",
       "        vertical-align: top;\n",
       "    }\n",
       "\n",
       "    .dataframe thead th {\n",
       "        text-align: right;\n",
       "    }\n",
       "</style>\n",
       "<table border=\"1\" class=\"dataframe\">\n",
       "  <thead>\n",
       "    <tr style=\"text-align: right;\">\n",
       "      <th></th>\n",
       "      <th>Unnamed: 0</th>\n",
       "      <th>Time</th>\n",
       "      <th>Country</th>\n",
       "      <th>Series</th>\n",
       "      <th>Pay period</th>\n",
       "      <th>value</th>\n",
       "      <th>Year</th>\n",
       "    </tr>\n",
       "  </thead>\n",
       "  <tbody>\n",
       "    <tr>\n",
       "      <th>0</th>\n",
       "      <td>0</td>\n",
       "      <td>2006-01-01</td>\n",
       "      <td>Ireland</td>\n",
       "      <td>In 2015 constant prices at 2015 USD PPPs</td>\n",
       "      <td>Annual</td>\n",
       "      <td>17132.443</td>\n",
       "      <td>2006</td>\n",
       "    </tr>\n",
       "    <tr>\n",
       "      <th>1</th>\n",
       "      <td>1</td>\n",
       "      <td>2007-01-01</td>\n",
       "      <td>Ireland</td>\n",
       "      <td>In 2015 constant prices at 2015 USD PPPs</td>\n",
       "      <td>Annual</td>\n",
       "      <td>18100.918</td>\n",
       "      <td>2007</td>\n",
       "    </tr>\n",
       "    <tr>\n",
       "      <th>2</th>\n",
       "      <td>2</td>\n",
       "      <td>2008-01-01</td>\n",
       "      <td>Ireland</td>\n",
       "      <td>In 2015 constant prices at 2015 USD PPPs</td>\n",
       "      <td>Annual</td>\n",
       "      <td>17747.406</td>\n",
       "      <td>2008</td>\n",
       "    </tr>\n",
       "    <tr>\n",
       "      <th>3</th>\n",
       "      <td>3</td>\n",
       "      <td>2009-01-01</td>\n",
       "      <td>Ireland</td>\n",
       "      <td>In 2015 constant prices at 2015 USD PPPs</td>\n",
       "      <td>Annual</td>\n",
       "      <td>18580.139</td>\n",
       "      <td>2009</td>\n",
       "    </tr>\n",
       "    <tr>\n",
       "      <th>4</th>\n",
       "      <td>4</td>\n",
       "      <td>2010-01-01</td>\n",
       "      <td>Ireland</td>\n",
       "      <td>In 2015 constant prices at 2015 USD PPPs</td>\n",
       "      <td>Annual</td>\n",
       "      <td>18755.832</td>\n",
       "      <td>2010</td>\n",
       "    </tr>\n",
       "  </tbody>\n",
       "</table>\n",
       "</div>"
      ],
      "text/plain": [
       "   Unnamed: 0        Time  Country                                    Series  \\\n",
       "0           0  2006-01-01  Ireland  In 2015 constant prices at 2015 USD PPPs   \n",
       "1           1  2007-01-01  Ireland  In 2015 constant prices at 2015 USD PPPs   \n",
       "2           2  2008-01-01  Ireland  In 2015 constant prices at 2015 USD PPPs   \n",
       "3           3  2009-01-01  Ireland  In 2015 constant prices at 2015 USD PPPs   \n",
       "4           4  2010-01-01  Ireland  In 2015 constant prices at 2015 USD PPPs   \n",
       "\n",
       "  Pay period      value  Year  \n",
       "0     Annual  17132.443  2006  \n",
       "1     Annual  18100.918  2007  \n",
       "2     Annual  17747.406  2008  \n",
       "3     Annual  18580.139  2009  \n",
       "4     Annual  18755.832  2010  "
      ]
     },
     "execution_count": 68,
     "metadata": {},
     "output_type": "execute_result"
    }
   ],
   "source": [
    "wagesnew = wages[wages['Series']== 'In 2015 constant prices at 2015 USD PPPs']\n",
    "wagesnew.head()"
   ]
  },
  {
   "cell_type": "code",
   "execution_count": 69,
   "metadata": {},
   "outputs": [
    {
     "data": {
      "text/html": [
       "<div>\n",
       "<style scoped>\n",
       "    .dataframe tbody tr th:only-of-type {\n",
       "        vertical-align: middle;\n",
       "    }\n",
       "\n",
       "    .dataframe tbody tr th {\n",
       "        vertical-align: top;\n",
       "    }\n",
       "\n",
       "    .dataframe thead th {\n",
       "        text-align: right;\n",
       "    }\n",
       "</style>\n",
       "<table border=\"1\" class=\"dataframe\">\n",
       "  <thead>\n",
       "    <tr style=\"text-align: right;\">\n",
       "      <th></th>\n",
       "      <th>Unnamed: 0</th>\n",
       "      <th>Time</th>\n",
       "      <th>Country</th>\n",
       "      <th>Series</th>\n",
       "      <th>Pay period</th>\n",
       "      <th>value</th>\n",
       "      <th>Year</th>\n",
       "    </tr>\n",
       "  </thead>\n",
       "  <tbody>\n",
       "    <tr>\n",
       "      <th>0</th>\n",
       "      <td>0</td>\n",
       "      <td>2006-01-01</td>\n",
       "      <td>Ireland</td>\n",
       "      <td>In 2015 constant prices at 2015 USD PPPs</td>\n",
       "      <td>Annual</td>\n",
       "      <td>17132.443</td>\n",
       "      <td>2006</td>\n",
       "    </tr>\n",
       "    <tr>\n",
       "      <th>1</th>\n",
       "      <td>1</td>\n",
       "      <td>2007-01-01</td>\n",
       "      <td>Ireland</td>\n",
       "      <td>In 2015 constant prices at 2015 USD PPPs</td>\n",
       "      <td>Annual</td>\n",
       "      <td>18100.918</td>\n",
       "      <td>2007</td>\n",
       "    </tr>\n",
       "    <tr>\n",
       "      <th>2</th>\n",
       "      <td>2</td>\n",
       "      <td>2008-01-01</td>\n",
       "      <td>Ireland</td>\n",
       "      <td>In 2015 constant prices at 2015 USD PPPs</td>\n",
       "      <td>Annual</td>\n",
       "      <td>17747.406</td>\n",
       "      <td>2008</td>\n",
       "    </tr>\n",
       "    <tr>\n",
       "      <th>3</th>\n",
       "      <td>3</td>\n",
       "      <td>2009-01-01</td>\n",
       "      <td>Ireland</td>\n",
       "      <td>In 2015 constant prices at 2015 USD PPPs</td>\n",
       "      <td>Annual</td>\n",
       "      <td>18580.139</td>\n",
       "      <td>2009</td>\n",
       "    </tr>\n",
       "    <tr>\n",
       "      <th>4</th>\n",
       "      <td>4</td>\n",
       "      <td>2010-01-01</td>\n",
       "      <td>Ireland</td>\n",
       "      <td>In 2015 constant prices at 2015 USD PPPs</td>\n",
       "      <td>Annual</td>\n",
       "      <td>18755.832</td>\n",
       "      <td>2010</td>\n",
       "    </tr>\n",
       "  </tbody>\n",
       "</table>\n",
       "</div>"
      ],
      "text/plain": [
       "   Unnamed: 0        Time  Country                                    Series  \\\n",
       "0           0  2006-01-01  Ireland  In 2015 constant prices at 2015 USD PPPs   \n",
       "1           1  2007-01-01  Ireland  In 2015 constant prices at 2015 USD PPPs   \n",
       "2           2  2008-01-01  Ireland  In 2015 constant prices at 2015 USD PPPs   \n",
       "3           3  2009-01-01  Ireland  In 2015 constant prices at 2015 USD PPPs   \n",
       "4           4  2010-01-01  Ireland  In 2015 constant prices at 2015 USD PPPs   \n",
       "\n",
       "  Pay period      value  Year  \n",
       "0     Annual  17132.443  2006  \n",
       "1     Annual  18100.918  2007  \n",
       "2     Annual  17747.406  2008  \n",
       "3     Annual  18580.139  2009  \n",
       "4     Annual  18755.832  2010  "
      ]
     },
     "execution_count": 69,
     "metadata": {},
     "output_type": "execute_result"
    }
   ],
   "source": [
    "wagesnew = wages[wages['Pay period']== 'Annual']\n",
    "wagesnew.head()"
   ]
  },
  {
   "cell_type": "code",
   "execution_count": 70,
   "metadata": {},
   "outputs": [
    {
     "name": "stderr",
     "output_type": "stream",
     "text": [
      "C:\\Users\\samod\\anaconda3\\lib\\site-packages\\pandas\\core\\frame.py:4163: SettingWithCopyWarning: \n",
      "A value is trying to be set on a copy of a slice from a DataFrame\n",
      "\n",
      "See the caveats in the documentation: https://pandas.pydata.org/pandas-docs/stable/user_guide/indexing.html#returning-a-view-versus-a-copy\n",
      "  return super().drop(\n"
     ]
    }
   ],
   "source": [
    "wagesnew.drop(labels = ['Time', 'Series','Unnamed: 0'],axis = 1, inplace = True)"
   ]
  },
  {
   "cell_type": "code",
   "execution_count": 71,
   "metadata": {},
   "outputs": [
    {
     "data": {
      "text/html": [
       "<div>\n",
       "<style scoped>\n",
       "    .dataframe tbody tr th:only-of-type {\n",
       "        vertical-align: middle;\n",
       "    }\n",
       "\n",
       "    .dataframe tbody tr th {\n",
       "        vertical-align: top;\n",
       "    }\n",
       "\n",
       "    .dataframe thead th {\n",
       "        text-align: right;\n",
       "    }\n",
       "</style>\n",
       "<table border=\"1\" class=\"dataframe\">\n",
       "  <thead>\n",
       "    <tr style=\"text-align: right;\">\n",
       "      <th></th>\n",
       "      <th>Country</th>\n",
       "      <th>Pay period</th>\n",
       "      <th>Salary</th>\n",
       "      <th>Year</th>\n",
       "    </tr>\n",
       "  </thead>\n",
       "  <tbody>\n",
       "    <tr>\n",
       "      <th>0</th>\n",
       "      <td>Ireland</td>\n",
       "      <td>Annual</td>\n",
       "      <td>17132.443</td>\n",
       "      <td>2006</td>\n",
       "    </tr>\n",
       "    <tr>\n",
       "      <th>1</th>\n",
       "      <td>Ireland</td>\n",
       "      <td>Annual</td>\n",
       "      <td>18100.918</td>\n",
       "      <td>2007</td>\n",
       "    </tr>\n",
       "    <tr>\n",
       "      <th>2</th>\n",
       "      <td>Ireland</td>\n",
       "      <td>Annual</td>\n",
       "      <td>17747.406</td>\n",
       "      <td>2008</td>\n",
       "    </tr>\n",
       "    <tr>\n",
       "      <th>3</th>\n",
       "      <td>Ireland</td>\n",
       "      <td>Annual</td>\n",
       "      <td>18580.139</td>\n",
       "      <td>2009</td>\n",
       "    </tr>\n",
       "    <tr>\n",
       "      <th>4</th>\n",
       "      <td>Ireland</td>\n",
       "      <td>Annual</td>\n",
       "      <td>18755.832</td>\n",
       "      <td>2010</td>\n",
       "    </tr>\n",
       "  </tbody>\n",
       "</table>\n",
       "</div>"
      ],
      "text/plain": [
       "   Country Pay period     Salary  Year\n",
       "0  Ireland     Annual  17132.443  2006\n",
       "1  Ireland     Annual  18100.918  2007\n",
       "2  Ireland     Annual  17747.406  2008\n",
       "3  Ireland     Annual  18580.139  2009\n",
       "4  Ireland     Annual  18755.832  2010"
      ]
     },
     "execution_count": 71,
     "metadata": {},
     "output_type": "execute_result"
    }
   ],
   "source": [
    "wagesnew = wagesnew.rename(columns = {'value': 'Salary'})\n",
    "wagesnew.reset_index(drop = True, inplace = True)\n",
    "wagesnew.head()"
   ]
  },
  {
   "cell_type": "markdown",
   "metadata": {},
   "source": [
    "## Exercise 2. Add a quartile group column\n",
    "\n",
    "Do the following:\n",
    "\n",
    "1. Find the quartiles for the minimal annual salary. \n",
    "2. Add a new column to the dataframe named `Group` that contains the values QG1, QG2, QG3 and QG4 representeding the quartile group (QG) to which the row belongs. Rows with a value between 0 and the first quartile get the value QG1, rows between the 1st and 2nd quartile get the value QG2, etc."
   ]
  },
  {
   "cell_type": "code",
   "execution_count": 73,
   "metadata": {},
   "outputs": [],
   "source": [
    "q1 = wagesnew['Salary'].quantile(0.25)\n",
    "q2 = wagesnew['Salary'].quantile(0.5)\n",
    "q3 = wagesnew['Salary'].quantile(0.75)\n",
    "q4 = wagesnew['Salary'].quantile(1)"
   ]
  },
  {
   "cell_type": "code",
   "execution_count": 83,
   "metadata": {},
   "outputs": [],
   "source": [
    "wagesnew['Group'] = np.empty(wagesnew.shape[0])"
   ]
  },
  {
   "cell_type": "code",
   "execution_count": 104,
   "metadata": {},
   "outputs": [
    {
     "data": {
      "text/html": [
       "<div>\n",
       "<style scoped>\n",
       "    .dataframe tbody tr th:only-of-type {\n",
       "        vertical-align: middle;\n",
       "    }\n",
       "\n",
       "    .dataframe tbody tr th {\n",
       "        vertical-align: top;\n",
       "    }\n",
       "\n",
       "    .dataframe thead th {\n",
       "        text-align: right;\n",
       "    }\n",
       "</style>\n",
       "<table border=\"1\" class=\"dataframe\">\n",
       "  <thead>\n",
       "    <tr style=\"text-align: right;\">\n",
       "      <th></th>\n",
       "      <th>Country</th>\n",
       "      <th>Pay period</th>\n",
       "      <th>Salary</th>\n",
       "      <th>Year</th>\n",
       "      <th>Group</th>\n",
       "    </tr>\n",
       "  </thead>\n",
       "  <tbody>\n",
       "    <tr>\n",
       "      <th>0</th>\n",
       "      <td>Ireland</td>\n",
       "      <td>Annual</td>\n",
       "      <td>17132.443</td>\n",
       "      <td>2006</td>\n",
       "      <td>QG3</td>\n",
       "    </tr>\n",
       "    <tr>\n",
       "      <th>1</th>\n",
       "      <td>Ireland</td>\n",
       "      <td>Annual</td>\n",
       "      <td>18100.918</td>\n",
       "      <td>2007</td>\n",
       "      <td>QG4</td>\n",
       "    </tr>\n",
       "    <tr>\n",
       "      <th>2</th>\n",
       "      <td>Ireland</td>\n",
       "      <td>Annual</td>\n",
       "      <td>17747.406</td>\n",
       "      <td>2008</td>\n",
       "      <td>QG4</td>\n",
       "    </tr>\n",
       "    <tr>\n",
       "      <th>3</th>\n",
       "      <td>Ireland</td>\n",
       "      <td>Annual</td>\n",
       "      <td>18580.139</td>\n",
       "      <td>2009</td>\n",
       "      <td>QG4</td>\n",
       "    </tr>\n",
       "    <tr>\n",
       "      <th>4</th>\n",
       "      <td>Ireland</td>\n",
       "      <td>Annual</td>\n",
       "      <td>18755.832</td>\n",
       "      <td>2010</td>\n",
       "      <td>QG4</td>\n",
       "    </tr>\n",
       "  </tbody>\n",
       "</table>\n",
       "</div>"
      ],
      "text/plain": [
       "   Country Pay period     Salary  Year Group\n",
       "0  Ireland     Annual  17132.443  2006   QG3\n",
       "1  Ireland     Annual  18100.918  2007   QG4\n",
       "2  Ireland     Annual  17747.406  2008   QG4\n",
       "3  Ireland     Annual  18580.139  2009   QG4\n",
       "4  Ireland     Annual  18755.832  2010   QG4"
      ]
     },
     "execution_count": 104,
     "metadata": {},
     "output_type": "execute_result"
    }
   ],
   "source": [
    "# Use quartile values to group names for quartile \n",
    "#(minwages['Salary'] > 0) & (minwages['Salary'] <= q1) = 'QG1'\n",
    "#(minwages['Salary'] > q1) & (minwages['Salary'] <= q2) = 'QG2'\n",
    "#(minwages['Salary'] > q2) & (minwages['Salary'] <= q3) = 'QG3'\n",
    "#(minwages['Salary'] > q3) & (minwages['Salary'] <= q4) = 'QG4'\n",
    "\n",
    "wagesnew['Group'] = pd.qcut(wagesnew['Salary'], 4, \n",
    "                            labels=['QG1', 'QG2', 'QG3', 'QG4'])\n",
    "wagesnew.head()"
   ]
  },
  {
   "cell_type": "markdown",
   "metadata": {},
   "source": [
    "## Exercise 3. Create a boxplot\n",
    "\n",
    "Create a graph using a single axis that shows the boxplots of the four groups. Use the Matplot lib [boxplot](https://matplotlib.org/stable/api/_as_gen/matplotlib.pyplot.boxplot.html) function. This will allow us to see if we properly separated rows by quartiles. It will also allow us to see the spread of the data in each quartile. Be sure to label the x-axis tick marks with the proper quantile group name."
   ]
  },
  {
   "cell_type": "code",
   "execution_count": 115,
   "metadata": {},
   "outputs": [
    {
     "data": {
      "image/png": "[encoded data removed]",
      "text/plain": [
       "<Figure size 432x288 with 1 Axes>"
      ]
     },
     "metadata": {
      "needs_background": "light"
     },
     "output_type": "display_data"
    }
   ],
   "source": [
    "fig = plt.figure()\n",
    "ax = fig.add_subplot(1, 1, 1)\n",
    "\n",
    "group1 = wagesnew[(wagesnew['Group'] == \"QG1\")]\n",
    "group2 = wagesnew[(wagesnew['Group'] == \"QG2\")]\n",
    "group3 = wagesnew[(wagesnew['Group'] == \"QG3\")]\n",
    "group4 = wagesnew[(wagesnew['Group'] == \"QG4\")]\n",
    "ax.boxplot([group1['Salary'], group2['Salary'], \n",
    "            group3['Salary'], group4['Salary']], \n",
    "            labels=['QG1', 'QG2','QG3', 'QG4'])\n",
    "plt.show()\n"
   ]
  },
  {
   "cell_type": "markdown",
   "metadata": {},
   "source": [
    "## Exercise 4. Create a Scatterplot\n",
    "\n",
    "Create a single scatterplot to explore if the salaries in quartile group 1 and quartile group 4 are correlated across years.  In other words are the salaries changing in simlar ways in both groups as time progresses.\n",
    "\n",
    "**Hints:** \n",
    "- We must wrangle our dataframe to build this plot\n",
    "- Be sure to add the x and y axis labels. "
   ]
  },
  {
   "cell_type": "code",
   "execution_count": null,
   "metadata": {},
   "outputs": [],
   "source": []
  },
  {
   "cell_type": "code",
   "execution_count": null,
   "metadata": {},
   "outputs": [],
   "source": []
  },
  {
   "cell_type": "markdown",
   "metadata": {},
   "source": [
    "Recreate the plot above, but set a different color per year and size the points to be larger for later years and smaller for earlier years."
   ]
  },
  {
   "cell_type": "code",
   "execution_count": null,
   "metadata": {},
   "outputs": [],
   "source": []
  },
  {
   "cell_type": "code",
   "execution_count": null,
   "metadata": {},
   "outputs": [],
   "source": []
  },
  {
   "cell_type": "markdown",
   "metadata": {},
   "source": [
    "## Exercise 5. Create a grid of scatterplots\n",
    "\n",
    "Now, let's see the pairwise scatterplot of each quartile group with every other group.  Create a 4x4 grid of subplots. The rows and columns of the subplot represent one of the 4 groups and each plot represents the scatterplot of those groups. You can skip the plots in the diagonal as these will always be the same quartile group. \n",
    "\n",
    "<span style=\"float:right; margin-left:10px; clear:both;\">![Task](../media/new_knowledge.png)</span>\n",
    "\n",
    "Use the following code to ensure that the plot is large enough to see detail:\n",
    "\n",
    "```python\n",
    "plt.rcParams[\"figure.figsize\"] = (12, 12)\n",
    "```\n",
    "The code above sets the size of the image in \"inches\" (i.e. 12 x 12 inches).  Also, because the x-axis and y-axis labels will be repeated, we only need to set them on the first column and last rows.  You can set the y-axis labels on the first column by using the `set` function and providing the `ylabel` argument. For example.\n",
    "```python\n",
    "axes[0, 0].set(ylabel=\"QG1\")\n",
    "```\n",
    "\n",
    "You can do the same for the x-axis on the bottom row using the same style:\n",
    "```python\n",
    "axes[3, 0].set(xlabel=\"QG1\")\n",
    "```"
   ]
  },
  {
   "cell_type": "code",
   "execution_count": null,
   "metadata": {},
   "outputs": [],
   "source": []
  },
  {
   "cell_type": "markdown",
   "metadata": {},
   "source": [
    "Do you see any correlation between any of the groups?  If so, why do you suspect this is?"
   ]
  },
  {
   "cell_type": "markdown",
   "metadata": {},
   "source": [
    "## Exercise 6. Create a grid of line plots\n",
    "\n",
    "Now, let's create a line graph of changes over time for each quartile group.  Let's use a 2x2 subplot grid with each grid showing a different group."
   ]
  },
  {
   "cell_type": "code",
   "execution_count": null,
   "metadata": {},
   "outputs": [],
   "source": []
  },
  {
   "cell_type": "code",
   "execution_count": null,
   "metadata": {},
   "outputs": [],
   "source": []
  }
 ],
 "metadata": {
  "kernelspec": {
   "display_name": "Python 3",
   "language": "python",
   "name": "python3"
  },
  "language_info": {
   "codemirror_mode": {
    "name": "ipython",
    "version": 3
   },
   "file_extension": ".py",
   "mimetype": "text/x-python",
   "name": "python",
   "nbconvert_exporter": "python",
   "pygments_lexer": "ipython3",
   "version": "3.8.5"
  }
 },
 "nbformat": 4,
 "nbformat_minor": 4
}
