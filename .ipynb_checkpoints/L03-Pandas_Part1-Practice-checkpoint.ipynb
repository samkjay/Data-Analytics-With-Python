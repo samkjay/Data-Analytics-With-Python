{
 "cells": [
  {
   "cell_type": "markdown",
   "metadata": {},
   "source": [
    "# Lesson 3 Practice: Pandas Part 1\n",
    "\n",
    "Use this notebook to follow along with the lesson in the corresponding lesson notebook: [L03-Pandas_Part1-Lesson.ipynb](./L03-Pandas_Part1-Lesson.ipynb).  "
   ]
  },
  {
   "cell_type": "markdown",
   "metadata": {},
   "source": [
    "## Instructions\n",
    "Follow along with the teaching material in the lesson. Throughout the tutorial sections labeled as \"Tasks\" are interspersed and indicated with the icon: ![Task](http://icons.iconarchive.com/icons/sbstnblnd/plateau/16/Apps-gnome-info-icon.png). You should follow the instructions provided in these sections by performing them in the practice notebook.  When the tutorial is completed you can turn in the final practice notebook. For each task, use the cell below it to write and test your code.  You may add additional cells for any task as needed or desired.  "
   ]
  },
  {
   "cell_type": "markdown",
   "metadata": {},
   "source": [
    "## Task 1a: Setup\n",
    "\n",
    "+ `numpy` as `np`\n",
    "+ `pandas` as `pd`\n"
   ]
  },
  {
   "cell_type": "code",
   "execution_count": 1,
   "metadata": {},
   "outputs": [],
   "source": [
    "import numpy as np\n",
    "import pandas as pd"
   ]
  },
  {
   "cell_type": "markdown",
   "metadata": {},
   "source": [
    "## Task 2a Create a `pd.Series` object\n",
    "\n",
    "+ Create a series of your own design."
   ]
  },
  {
   "cell_type": "code",
   "execution_count": 11,
   "metadata": {},
   "outputs": [
    {
     "name": "stdout",
     "output_type": "stream",
     "text": [
      "0     2.0\n",
      "1     4.0\n",
      "2     6.0\n",
      "3    10.0\n",
      "4    34.0\n",
      "5     NaN\n",
      "6     NaN\n",
      "7    40.0\n",
      "8    56.0\n",
      "9     NaN\n",
      "dtype: float64\n"
     ]
    }
   ],
   "source": [
    "my_series = pd.Series([2, 4, 6, 10, 34, np.nan, np.nan, 40, 56, np.nan])\n",
    "print(my_series)"
   ]
  },
  {
   "cell_type": "markdown",
   "metadata": {},
   "source": [
    "## Task 2b: Creating a DataFrame\n",
    "\n",
    "+ Create a pd.DataFrame object from a Python dictionary. Design the data as you like."
   ]
  },
  {
   "cell_type": "code",
   "execution_count": 16,
   "metadata": {},
   "outputs": [
    {
     "data": {
      "text/html": [
       "<div>\n",
       "<style scoped>\n",
       "    .dataframe tbody tr th:only-of-type {\n",
       "        vertical-align: middle;\n",
       "    }\n",
       "\n",
       "    .dataframe tbody tr th {\n",
       "        vertical-align: top;\n",
       "    }\n",
       "\n",
       "    .dataframe thead th {\n",
       "        text-align: right;\n",
       "    }\n",
       "</style>\n",
       "<table border=\"1\" class=\"dataframe\">\n",
       "  <thead>\n",
       "    <tr style=\"text-align: right;\">\n",
       "      <th></th>\n",
       "      <th>Pets</th>\n",
       "      <th>Color</th>\n",
       "      <th>Count</th>\n",
       "    </tr>\n",
       "  </thead>\n",
       "  <tbody>\n",
       "    <tr>\n",
       "      <th>0</th>\n",
       "      <td>Cats</td>\n",
       "      <td>Black</td>\n",
       "      <td>3</td>\n",
       "    </tr>\n",
       "    <tr>\n",
       "      <th>1</th>\n",
       "      <td>Dogs</td>\n",
       "      <td>Brown</td>\n",
       "      <td>2</td>\n",
       "    </tr>\n",
       "    <tr>\n",
       "      <th>2</th>\n",
       "      <td>Birds</td>\n",
       "      <td>Multi</td>\n",
       "      <td>4</td>\n",
       "    </tr>\n",
       "    <tr>\n",
       "      <th>3</th>\n",
       "      <td>Mice</td>\n",
       "      <td>White</td>\n",
       "      <td>3</td>\n",
       "    </tr>\n",
       "  </tbody>\n",
       "</table>\n",
       "</div>"
      ],
      "text/plain": [
       "    Pets  Color  Count\n",
       "0   Cats  Black      3\n",
       "1   Dogs  Brown      2\n",
       "2  Birds  Multi      4\n",
       "3   Mice  White      3"
      ]
     },
     "execution_count": 16,
     "metadata": {},
     "output_type": "execute_result"
    }
   ],
   "source": [
    "my_dataframe = pd.DataFrame (\n",
    "    {'Pets': ['Cats', 'Dogs', 'Birds', 'Mice'], \n",
    "     'Color': ['Black', 'Brown', 'Multi', 'White'],\n",
    "     'Count': [3, 2, 4, 3]\n",
    "    }\n",
    " )\n",
    "my_dataframe"
   ]
  },
  {
   "cell_type": "markdown",
   "metadata": {},
   "source": [
    "## Task 2c: Create DataFrame with labels\n",
    "\n",
    "+ Create a 10x5 dataframe of random numeric integers that follow a [Guassian (normal) Distribution](https://docs.scipy.org/doc/numpy-1.15.0/reference/generated/numpy.random.normal.html). \n",
    "  + Center the distrubtion at 0.85.\n",
    "  + We will use these values as assumed grades for a class of students\n",
    "+ Adjust the row indexes to be the names of hypothetical students.\n",
    "+ Adjust the columsn to be the names of hypothetical projects, homework, exam names, etc."
   ]
  },
  {
   "cell_type": "code",
   "execution_count": null,
   "metadata": {},
   "outputs": [],
   "source": []
  },
  {
   "cell_type": "markdown",
   "metadata": {},
   "source": [
    "## Task 3a: Import the iris.csv file\n",
    "\n",
    "+ Import the iris dataset.\n",
    "+ Take a look at the `pd.read_csv` online documentation. Write example code in a Markup cell for how you would import this file if it were tab-delimited."
   ]
  },
  {
   "cell_type": "code",
   "execution_count": null,
   "metadata": {},
   "outputs": [],
   "source": []
  },
  {
   "cell_type": "markdown",
   "metadata": {},
   "source": [
    "## Task 4a: Explore Data\n",
    "\n",
    " + Use `head`, `tail` and `sample` with the iris dataset.\n",
    " + Do the same with the dataset you created in task 2c."
   ]
  },
  {
   "cell_type": "code",
   "execution_count": null,
   "metadata": {},
   "outputs": [],
   "source": []
  },
  {
   "cell_type": "markdown",
   "metadata": {},
   "source": [
    "## Task 5a: Viewing columns and rows\n",
    "\n",
    "+ Display the columns and indexes of the iris dataset.\n",
    "+ Do the same with the dataset you created in Task 2c."
   ]
  },
  {
   "cell_type": "code",
   "execution_count": null,
   "metadata": {},
   "outputs": [],
   "source": []
  },
  {
   "cell_type": "markdown",
   "metadata": {},
   "source": [
    "## Task 5b: Get Values\n",
    "\n",
    "+ Check the version of `pandas` you have \n",
    "+ Use the appropriate method to convert the iris data to a dictionary.\n",
    "+ Do the same with the dataset you created in Task 2c.\n"
   ]
  },
  {
   "cell_type": "code",
   "execution_count": null,
   "metadata": {},
   "outputs": [],
   "source": []
  },
  {
   "cell_type": "markdown",
   "metadata": {},
   "source": [
    "## Task 5c: Using `loc`\n",
    "\n",
    "+ Use any iris dataframe to:\n",
    "  + Select a row slice with `loc`.\n",
    "  + Select a row and column slice with `loc`.\n",
    "  + Take a look at the [Pandas documentation for the `at` selector](https://pandas.pydata.org/pandas-docs/stable/reference/api/pandas.DataFrame.at.html). Use what you learn there to select a single item with Pandas `at` accessor."
   ]
  },
  {
   "cell_type": "code",
   "execution_count": null,
   "metadata": {},
   "outputs": [],
   "source": []
  },
  {
   "cell_type": "markdown",
   "metadata": {},
   "source": [
    "## Task 5d: Using `iloc`\n",
    "\n",
    "+ Use any iris dataframe to:    \n",
    "    + Select a row slice with `iloc`.\n",
    "    + Select a row and column slice with `iloc`.\n",
    "    + Take a look at the [Pandas documentation for the `iat` selector](https://pandas.pydata.org/pandas-docs/stable/reference/api/pandas.DataFrame.iat.html). Use what you learn there to select a single item with Pandas `iat` accessor.\n",
    "\n"
   ]
  },
  {
   "cell_type": "code",
   "execution_count": null,
   "metadata": {},
   "outputs": [],
   "source": []
  },
  {
   "cell_type": "markdown",
   "metadata": {},
   "source": [
    "## Task 5e: Boolean Indexing\n",
    "\n",
    "+ Create subsets of the iris dataset using boolean indexes that:\n",
    "    + Use one boolean operator.\n",
    "    + Use two boolean operators.\n",
    "\n"
   ]
  },
  {
   "cell_type": "code",
   "execution_count": null,
   "metadata": {},
   "outputs": [],
   "source": []
  }
 ],
 "metadata": {
  "kernelspec": {
   "display_name": "Python 3",
   "language": "python",
   "name": "python3"
  },
  "language_info": {
   "codemirror_mode": {
    "name": "ipython",
    "version": 3
   },
   "file_extension": ".py",
   "mimetype": "text/x-python",
   "name": "python",
   "nbconvert_exporter": "python",
   "pygments_lexer": "ipython3",
   "version": "3.8.5"
  }
 },
 "nbformat": 4,
 "nbformat_minor": 4
}
