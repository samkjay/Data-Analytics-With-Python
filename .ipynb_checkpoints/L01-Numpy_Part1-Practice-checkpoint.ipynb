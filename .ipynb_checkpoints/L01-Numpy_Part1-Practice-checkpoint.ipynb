{
 "cells": [
  {
   "cell_type": "markdown",
   "metadata": {},
   "source": [
    "# Lesson 1 Practice: NumPy Part 1\n",
    "Use this notebook to follow along with the lesson in the corresponding lesson notebook: [L01-Numpy_Part1-Lesson.ipynb](./L01-Numpy_Part1-Lesson.ipynb).  \n",
    "\n"
   ]
  },
  {
   "cell_type": "markdown",
   "metadata": {},
   "source": [
    "## Instructions\n",
    "Follow along with the teaching material in the lesson. Throughout the tutorial sections labeled as \"Tasks\" are interspersed and indicated with the icon: ![Task](http://icons.iconarchive.com/icons/sbstnblnd/plateau/16/Apps-gnome-info-icon.png). You should follow the instructions provided in these sections by performing them in the practice notebook.  When the tutorial is completed you can turn in the final practice notebook. For each task, use the cell below it to write and test your code.  You may add additional cells for any task as needed or desired.  "
   ]
  },
  {
   "cell_type": "markdown",
   "metadata": {},
   "source": [
    "## Task 1a: Setup\n",
    "\n",
    "In the practice notebook, import the following packages:\n",
    "+ `numpy` as `np`"
   ]
  },
  {
   "cell_type": "code",
   "execution_count": 1,
   "metadata": {},
   "outputs": [],
   "source": [
    "import numpy as np"
   ]
  },
  {
   "cell_type": "markdown",
   "metadata": {},
   "source": [
    "## Task 2a: Creating Arrays\n",
    "\n",
    "In the practice notebook, perform the following.  \n",
    "- Create a 1-dimensional numpy array and print it.\n",
    "- Create a 2-dimensional numpy array and print it.\n",
    "- Create a 3-dimensional numpy array and print it."
   ]
  },
  {
   "cell_type": "code",
   "execution_count": 2,
   "metadata": {},
   "outputs": [
    {
     "name": "stdout",
     "output_type": "stream",
     "text": [
      "[22  3  5 34]\n",
      "[[2 3 4]\n",
      " [1 2 3]]\n",
      "[[[100 200 400]\n",
      "  [  1   2   3]\n",
      "  [  8   9  20]\n",
      "  [ 33  66  99]]]\n"
     ]
    }
   ],
   "source": [
    "#one dimentional array\n",
    "oneD_array = np.array((22, 3, 5, 34))\n",
    "print(oneD_array)\n",
    "\n",
    "#two dimentional array\n",
    "twoD_array = np.array([[2, 3, 4, ],[1, 2, 3]])\n",
    "print(twoD_array)\n",
    "\n",
    "#three dimentional array\n",
    "threeD_array = np.array([[[100, 200, 400], [1, 2, 3], [8, 9, 20], [33, 66, 99]]])\n",
    "print(threeD_array)"
   ]
  },
  {
   "cell_type": "markdown",
   "metadata": {},
   "source": [
    "## Task 3a: Accessing Array Attributes\n",
    "\n",
    "In the practice notebook, perform the following.\n",
    "\n",
    "- Create a NumPy array.\n",
    "- Write code that prints these attributes (one per line): `ndim`, `shape`, `size`, `dtype`, `itemsize`, `data`, `nbytes`.\n",
    "- Add a comment line, before each line describing what value the attribute returns. \n"
   ]
  },
  {
   "cell_type": "code",
   "execution_count": 3,
   "metadata": {},
   "outputs": [
    {
     "name": "stdout",
     "output_type": "stream",
     "text": [
      "2\n",
      "(2, 5)\n",
      "10\n",
      "int32\n",
      "4\n",
      "<memory at 0x00000227DB17E520>\n",
      "40\n"
     ]
    }
   ],
   "source": [
    "#creating a numpy array\n",
    "my_array = np.array ([[1, 2, 3, 4, 5], [2, 4, 6, 8, 10]])\n",
    "\n",
    "#number of dimentions in the array\n",
    "print(my_array.ndim)\n",
    "\n",
    "#shape of the created array\n",
    "print(my_array.shape)\n",
    "\n",
    "#number of elements in the created array\n",
    "print(my_array.size)\n",
    "\n",
    "#data type of the array's element\n",
    "print(my_array.dtype)\n",
    "\n",
    "#length of one array element on bytes\n",
    "print(my_array.itemsize)\n",
    "\n",
    "#python object giving the start of the array's data\n",
    "print(my_array.data)\n",
    "\n",
    "#total size of all elements in the array , in bytes\n",
    "print(my_array.nbytes)\n"
   ]
  },
  {
   "cell_type": "markdown",
   "metadata": {},
   "source": [
    "## Task 4a: Initializing Arrays\n",
    "\n",
    "In the practice notebook, perform the following.\n",
    "\n",
    "+ Create an initialized array by using these functions:  `ones`, `zeros`, `empty`, `full`, `arange`, `linspace` and `random.random`. Be sure to follow each array creation with a call to `print()` to display your newly created arrays. \n",
    "+ Add a comment above each function call describing what is being done.  "
   ]
  },
  {
   "cell_type": "code",
   "execution_count": 5,
   "metadata": {},
   "outputs": [
    {
     "name": "stdout",
     "output_type": "stream",
     "text": [
      "[[1. 1. 1.]\n",
      " [1. 1. 1.]]\n",
      "[[0. 0. 0. 0.]\n",
      " [0. 0. 0. 0.]\n",
      " [0. 0. 0. 0.]\n",
      " [0. 0. 0. 0.]\n",
      " [0. 0. 0. 0.]]\n",
      "[[0. 0. 0. 0. 0.]\n",
      " [0. 0. 0. 0. 0.]\n",
      " [0. 0. 0. 0. 0.]]\n",
      "[[2 3 4]\n",
      " [2 3 4]]\n",
      "[ 2  5  8 11 14 17 20]\n",
      "[ 2.   6.5 11.  15.5 20. ]\n",
      "[0.81005277 0.06475108 0.00106718]\n"
     ]
    }
   ],
   "source": [
    "#create a 2D array with 2 rows and 3 columns filled with ones\n",
    "ones_array = np.ones((2, 3))\n",
    "print(ones_array)\n",
    "\n",
    "#create a 2D array with 5 rows and 4 columns filled with zeros\n",
    "zeros_array = np.zeros((5, 4))\n",
    "print(zeros_array)\n",
    "\n",
    "#create an empty 2D array with 3 rows and 5 columns \n",
    "empty_array = np.empty((3, 5))\n",
    "print(empty_array)\n",
    "\n",
    "#create a 2D array with 2 rows and 3 columns folled with numbers 2, 3 and 4 in each row\n",
    "full_array = np.full((2, 3), [2, 3, 4])\n",
    "print(full_array)\n",
    "\n",
    "#create an array with numbers from 2 to 22(excluding 22) spaced every 3 intergers\n",
    "arranged_array = np.arange (2, 22, 3)\n",
    "print(arranged_array)\n",
    "\n",
    "#create an array with 5 numbers evenly spaced between 2,0 and 20.0\n",
    "spaced_array = np.linspace(2.0,  20.0, num = 5)\n",
    "print(spaced_array)\n",
    "\n",
    "#an array with 3 random floates between 0.0 and 1.0 \n",
    "random_floates =  np.random.random((3,))\n",
    "print(random_floates)"
   ]
  },
  {
   "cell_type": "markdown",
   "metadata": {},
   "source": [
    "## Task 5a:  Broadcasting Arrays\n",
    "\n",
    "In the practice notebook, perform the following.\n",
    "\n",
    "+ Create two arrays of differing sizes but compatible with broadcasting.\n",
    "+ Perform addition, multiplication and subtraction.\n",
    "+ Create two additional arrays of differing size that do not meet the rules for broadcasting and try a mathematical operation.  "
   ]
  },
  {
   "cell_type": "code",
   "execution_count": 9,
   "metadata": {},
   "outputs": [
    {
     "ename": "ValueError",
     "evalue": "operands could not be broadcast together with shapes (2,3) (4,6) ",
     "output_type": "error",
     "traceback": [
      "\u001b[1;31m---------------------------------------------------------------------------\u001b[0m",
      "\u001b[1;31mValueError\u001b[0m                                Traceback (most recent call last)",
      "\u001b[1;32m<ipython-input-9-4df15bb00a87>\u001b[0m in \u001b[0;36m<module>\u001b[1;34m\u001b[0m\n\u001b[0;32m     17\u001b[0m \u001b[1;33m\u001b[0m\u001b[0m\n\u001b[0;32m     18\u001b[0m \u001b[1;31m#addition\u001b[0m\u001b[1;33m\u001b[0m\u001b[1;33m\u001b[0m\u001b[1;33m\u001b[0m\u001b[0m\n\u001b[1;32m---> 19\u001b[1;33m \u001b[0marray_x\u001b[0m \u001b[1;33m+\u001b[0m \u001b[0marray_y\u001b[0m\u001b[1;33m\u001b[0m\u001b[1;33m\u001b[0m\u001b[0m\n\u001b[0m",
      "\u001b[1;31mValueError\u001b[0m: operands could not be broadcast together with shapes (2,3) (4,6) "
     ]
    }
   ],
   "source": [
    "#arrays compatible woth broadcasting\n",
    "array_one = np.ones((4, 4))\n",
    "array_zeros  = np.zeros((4, 4))\n",
    "\n",
    "#addition\n",
    "array_one + array_zeros\n",
    "\n",
    "#multiplication\n",
    "array_one * array_zeros\n",
    "\n",
    "#subtraction\n",
    "array_one - array_zeros\n",
    "\n",
    "#non-compatible arrays\n",
    "array_x = np.ones((2, 3))\n",
    "array_y = np.ones((4, 6))\n",
    "\n",
    "#addition\n",
    "array_x + array_y\n"
   ]
  },
  {
   "cell_type": "markdown",
   "metadata": {},
   "source": [
    "## Task 6a: Math/Stats Aggregate Functions\n",
    "\n",
    "In the practice notebook, perform the following.\n",
    "\n",
    "+ Create three to five arrays\n",
    "+ Experiment with each of the aggregation functions: `sum`, `minimum`, `maximum`, `cumsum`, `mean`, `np.corrcoef`, `np.std`, `np.var`. \n",
    "+ For each function call, add a comment line above it that describes what it does.  \n",
    "```\n"
   ]
  },
  {
   "cell_type": "code",
   "execution_count": 9,
   "metadata": {},
   "outputs": [
    {
     "name": "stdout",
     "output_type": "stream",
     "text": [
      "[ 1 20 30 40 50]\n",
      "[1 2 3 5 6]\n",
      "[0 2 4 6 8]\n",
      "141\n",
      "17\n",
      "20\n",
      "[1 2 3 5 6]\n",
      "[0 2 3 5 6]\n",
      "[0 2 4 6 8]\n",
      "[ 1 20 30 40 50]\n",
      "[1 2 4 6 8]\n",
      "[ 1 20 30 40 50]\n",
      "[  1  21  51  91 141]\n",
      "[ 1  3  6 11 17]\n",
      "[ 0  2  6 12 20]\n",
      "28.2\n",
      "3.4\n",
      "4.0\n",
      "1.0\n",
      "1.0\n",
      "1.0\n",
      "16.880758276807352\n",
      "1.854723699099141\n",
      "2.8284271247461903\n",
      "284.96\n",
      "3.4400000000000004\n",
      "8.0\n"
     ]
    }
   ],
   "source": [
    "array_one = np.array((1, 20, 30, 40, 50))\n",
    "array_two = np.array((1, 2, 3, 5, 6))\n",
    "array_three = np.arange(0, 10, 2)\n",
    "print(array_one)\n",
    "print(array_two)\n",
    "print(array_three)\n",
    "\n",
    "#gives the sum of the array elements\n",
    "sum1 = np.sum(array_one)\n",
    "sum2 = np.sum(array_two)\n",
    "sum3 = np.sum(array_three)\n",
    "print(sum1)\n",
    "print(sum2)\n",
    "print(sum3)\n",
    "\n",
    "#compares the two arrays and create a new array with the minimum number at each position\n",
    "min1 = np.minimum(array_one, array_two)\n",
    "min2 = np.minimum(array_two, array_three)\n",
    "min3 = np.minimum(array_three, array_one)\n",
    "print(min1)\n",
    "print(min2)\n",
    "print(min3)\n",
    "\n",
    "#compares the two arrays and create a new array with the maximum number at each position\n",
    "max1 = np.maximum(array_one, array_two)\n",
    "max2 = np.maximum(array_two, array_three)\n",
    "max3 = np.maximum(array_three, array_one)\n",
    "print(max1)\n",
    "print(max2)\n",
    "print(max3)\n",
    "\n",
    "#gives the cumulative sum of elements along an axis\n",
    "cumulative1 = np.cumsum(array_one)\n",
    "cumulative2 = np.cumsum(array_two)\n",
    "cumulative3 = np.cumsum(array_three)\n",
    "print(cumulative1)\n",
    "print(cumulative2)\n",
    "print(cumulative3)\n",
    "\n",
    "#gives the arithmatic mean along an axis of the array\n",
    "mean1 = np.mean(array_one)\n",
    "mean2 = np.mean(array_two)\n",
    "mean3 = np.mean(array_three)\n",
    "print(mean1)\n",
    "print(mean2)\n",
    "print(mean3)\n",
    "\n",
    "#gives the correlation coefficients\n",
    "coef1 = np.corrcoef(array_one)\n",
    "coef2 = np.corrcoef(array_two)\n",
    "coef3 = np.corrcoef(array_three)\n",
    "print(coef1)\n",
    "print(coef2)\n",
    "print(coef3)\n",
    "\n",
    "#gives the standard deviation along an axis\n",
    "sd1 = np.std(array_one)\n",
    "sd2 = np.std(array_two)\n",
    "sd3 = np.std(array_three)\n",
    "print(sd1)\n",
    "print(sd2)\n",
    "print(sd3)\n",
    "\n",
    "#gives the varience along an axis\n",
    "var1 = np.var(array_one)\n",
    "var2 = np.var(array_two)\n",
    "var3 = np.var(array_three)\n",
    "print(var1)\n",
    "print(var2)\n",
    "print(var3)\n"
   ]
  },
  {
   "cell_type": "markdown",
   "metadata": {},
   "source": [
    "## Task 6b: Logical Aggregate Functions\n",
    "\n",
    "In the practice notebook, perform the following.\n",
    "\n",
    "+ Create two arrays containing boolean values.\n",
    "+ Experiment with each of the aggregation functions: `logical_and`, `logical_or`, `logical_not`. \n",
    "+ For each function call, add a comment line above it that describes what it does.  \n",
    "```"
   ]
  },
  {
   "cell_type": "code",
   "execution_count": 11,
   "metadata": {},
   "outputs": [
    {
     "name": "stdout",
     "output_type": "stream",
     "text": [
      "[True, False, False, False, True]\n",
      "[False, True, True, False, False]\n",
      "[False False False False False]\n",
      "[ True  True  True False  True]\n",
      "[False  True  True  True False]\n",
      "[ True False False  True  True]\n"
     ]
    }
   ],
   "source": [
    "x = [True, False, False, False, True]\n",
    "y = [False, True, True, False, False]\n",
    "print(x)\n",
    "print(y)\n",
    "\n",
    "#perform a logical \"and\"\n",
    "and1 = np.logical_and(x, y)\n",
    "\n",
    "#perform a logical \"or\"\n",
    "or1 = np.logical_or(x, y)\n",
    "\n",
    "#perform a logical \"not\"\n",
    "not_x = np.logical_not(x)\n",
    "not_y = np.logical_not(y)\n",
    "\n",
    "print(and1)\n",
    "print(or1)\n",
    "print(not_x)\n",
    "print(not_y)"
   ]
  },
  {
   "cell_type": "code",
   "execution_count": null,
   "metadata": {},
   "outputs": [],
   "source": []
  }
 ],
 "metadata": {
  "kernelspec": {
   "display_name": "Python 3",
   "language": "python",
   "name": "python3"
  },
  "language_info": {
   "codemirror_mode": {
    "name": "ipython",
    "version": 3
   },
   "file_extension": ".py",
   "mimetype": "text/x-python",
   "name": "python",
   "nbconvert_exporter": "python",
   "pygments_lexer": "ipython3",
   "version": "3.8.5"
  }
 },
 "nbformat": 4,
 "nbformat_minor": 4
}
