{
 "cells": [
  {
   "cell_type": "markdown",
   "metadata": {},
   "source": [
    "# Lesson 4 Practice: Pandas Part 2\n",
    "\n",
    "Use this notebook to follow along with the lesson in the corresponding lesson notebook: [L04-Pandas_Part2-Lesson.ipynb](./L04-Pandas_Part2-Lesson.ipynb).  \n"
   ]
  },
  {
   "cell_type": "markdown",
   "metadata": {},
   "source": [
    "## Instructions\n",
    "Follow along with the teaching material in the lesson. Throughout the tutorial sections labeled as \"Tasks\" are interspersed and indicated with the icon: ![Task](http://icons.iconarchive.com/icons/sbstnblnd/plateau/16/Apps-gnome-info-icon.png). You should follow the instructions provided in these sections by performing them in the practice notebook.  When the tutorial is completed you can turn in the final practice notebook. For each task, use the cell below it to write and test your code.  You may add additional cells for any task as needed or desired.  "
   ]
  },
  {
   "cell_type": "markdown",
   "metadata": {},
   "source": [
    "## Task 1a: Setup\n",
    "\n",
    "- import pandas\n",
    "- re-create the `df` data frame\n",
    "- re-create the `iris_df` data frame"
   ]
  },
  {
   "cell_type": "code",
   "execution_count": 81,
   "metadata": {},
   "outputs": [],
   "source": [
    "import numpy as np\n",
    "import pandas as pd\n",
    "\n",
    "df = pd.DataFrame(\n",
    "    {'alpha': [0, 1, 2, 3, 4],\n",
    "     'beta' : ['a', 'b', 'c', 'd', 'e'] \n",
    "})\n",
    "\n",
    "iris_df = pd.read_csv('./data/iris.csv')"
   ]
  },
  {
   "cell_type": "markdown",
   "metadata": {},
   "source": [
    "## Task 2a: Inserting Columns\n",
    "\n",
    "+ Create a copy of the `df` dataframe.\n",
    "+ Add a new column named \"delta\" to the copy that consists of random numbers."
   ]
  },
  {
   "cell_type": "code",
   "execution_count": 18,
   "metadata": {},
   "outputs": [
    {
     "data": {
      "text/html": [
       "<div>\n",
       "<style scoped>\n",
       "    .dataframe tbody tr th:only-of-type {\n",
       "        vertical-align: middle;\n",
       "    }\n",
       "\n",
       "    .dataframe tbody tr th {\n",
       "        vertical-align: top;\n",
       "    }\n",
       "\n",
       "    .dataframe thead th {\n",
       "        text-align: right;\n",
       "    }\n",
       "</style>\n",
       "<table border=\"1\" class=\"dataframe\">\n",
       "  <thead>\n",
       "    <tr style=\"text-align: right;\">\n",
       "      <th></th>\n",
       "      <th>alpha</th>\n",
       "      <th>beta</th>\n",
       "      <th>delta</th>\n",
       "    </tr>\n",
       "  </thead>\n",
       "  <tbody>\n",
       "    <tr>\n",
       "      <th>0</th>\n",
       "      <td>0</td>\n",
       "      <td>a</td>\n",
       "      <td>0.979265</td>\n",
       "    </tr>\n",
       "    <tr>\n",
       "      <th>1</th>\n",
       "      <td>1</td>\n",
       "      <td>b</td>\n",
       "      <td>1.756029</td>\n",
       "    </tr>\n",
       "    <tr>\n",
       "      <th>2</th>\n",
       "      <td>2</td>\n",
       "      <td>c</td>\n",
       "      <td>0.586479</td>\n",
       "    </tr>\n",
       "    <tr>\n",
       "      <th>3</th>\n",
       "      <td>3</td>\n",
       "      <td>d</td>\n",
       "      <td>0.295878</td>\n",
       "    </tr>\n",
       "    <tr>\n",
       "      <th>4</th>\n",
       "      <td>4</td>\n",
       "      <td>e</td>\n",
       "      <td>-0.356161</td>\n",
       "    </tr>\n",
       "  </tbody>\n",
       "</table>\n",
       "</div>"
      ],
      "text/plain": [
       "   alpha beta     delta\n",
       "0      0    a  0.979265\n",
       "1      1    b  1.756029\n",
       "2      2    c  0.586479\n",
       "3      3    d  0.295878\n",
       "4      4    e -0.356161"
      ]
     },
     "execution_count": 18,
     "metadata": {},
     "output_type": "execute_result"
    }
   ],
   "source": [
    "df_copy = df\n",
    "df_copy['delta'] = np.random.randn(5)\n",
    "df_copy"
   ]
  },
  {
   "cell_type": "markdown",
   "metadata": {},
   "source": [
    "## Task 3a: Missing Data\n",
    "\n",
    "+ Create two new copies of the `df` dataframe:\n",
    "+ Add a new column to both that has missing values.\n",
    "+ In one copy, replace missing values with a value of your choice.\n",
    "+ In the other copy, drop rows with `NaN` values.\n",
    "+ Print both arrays to confirm."
   ]
  },
  {
   "cell_type": "code",
   "execution_count": 42,
   "metadata": {},
   "outputs": [
    {
     "name": "stdout",
     "output_type": "stream",
     "text": [
      "   alpha beta  gamma\n",
      "0      0    a    1.0\n",
      "1      1    b    2.0\n",
      "2      2    c    2.0\n",
      "3      3    d    3.0\n",
      "4      4    e    2.0\n",
      "   alpha beta  gamma\n",
      "0      0    a    1.0\n",
      "1      1    b    2.0\n",
      "3      3    d    3.0\n"
     ]
    }
   ],
   "source": [
    "df_copy1 = df\n",
    "df_copy2 = df\n",
    "df_copy1['gamma'] = pd.Series([1, np.nan, np.nan, 3, 4])\n",
    "df_copy2['gamma'] = pd.Series([1, 2, np.nan, 3, np.nan])                            \n",
    "\n",
    "#replacing missing values with 2\n",
    "df_copy1 = df_copy1.fillna(2)\n",
    "print(df_copy1)\n",
    "\n",
    "#dropping rows with missing value\n",
    "df_copy2 = df_copy2.dropna()\n",
    "print(df_copy2)"
   ]
  },
  {
   "cell_type": "markdown",
   "metadata": {},
   "source": [
    "## Task 4a: Operations\n",
    "<span style=\"float:right; margin-left:10px; clear:both;\">![Task](./media/task-icon.png)</span>\n",
    "\n",
    "View the [Computational tools](https://pandas.pydata.org/pandas-docs/stable/user_guide/computation.html) and [statistical methods](https://pandas.pydata.org/pandas-docs/stable/user_guide/computation.html#method-summary) documentation.\n",
    "Using the list of operational functions choose five functions to use with the iris data frame.\n",
    "\n"
   ]
  },
  {
   "cell_type": "code",
   "execution_count": 94,
   "metadata": {},
   "outputs": [
    {
     "name": "stdout",
     "output_type": "stream",
     "text": [
      "Covarience among series in the data frame\n",
      "\n",
      "               sepal_length  sepal_width  petal_length  petal_width\n",
      "sepal_length      0.685694    -0.039268      1.273682     0.516904\n",
      "sepal_width      -0.039268     0.188004     -0.321713    -0.117981\n",
      "petal_length      1.273682    -0.321713      3.113179     1.296387\n",
      "petal_width       0.516904    -0.117981      1.296387     0.582414\n",
      "\n",
      "\n",
      "Pearson's Pairwise correlation of DataFrame columns\n",
      "\n",
      "               sepal_length  sepal_width  petal_length  petal_width\n",
      "sepal_length      1.000000    -0.109369      0.871754     0.817954\n",
      "sepal_width      -0.109369     1.000000     -0.420516    -0.356544\n",
      "petal_length      0.871754    -0.420516      1.000000     0.962757\n",
      "petal_width       0.817954    -0.356544      0.962757     1.000000\n",
      "\n",
      "     sepal_length  sepal_width  petal_length  petal_width  species\n",
      "0            37.0        129.5          17.5         20.5     25.5\n",
      "1            19.5         70.5          17.5         20.5     25.5\n",
      "2            10.5        102.0           8.0         20.5     25.5\n",
      "3             7.5         89.5          30.5         20.5     25.5\n",
      "4            27.5        134.0          17.5         20.5     25.5\n",
      "..            ...          ...           ...          ...      ...\n",
      "145         126.5         70.5         117.5        140.5    125.5\n",
      "146         104.0         15.5         106.5        119.0    125.5\n",
      "147         118.0         70.5         117.5        124.5    125.5\n",
      "148          97.5        120.5         121.5        140.5    125.5\n",
      "149          82.0         70.5         112.5        110.5    125.5\n",
      "\n",
      "[150 rows x 5 columns]\n"
     ]
    }
   ],
   "source": [
    "iris_new = iris_df.loc[0 :50 , ['sepal_width', 'petal_width']]\n",
    "\n",
    "#Percentage change\n",
    "pct = iris_new.pct_change(axis = 'columns')\n",
    "\n",
    "#calculating covarience among series in the data frame\n",
    "cov = iris_df.cov()\n",
    "print(f\"Covarience among series in the data frame\\n\\n {cov}\")\n",
    "\n",
    "#calculating Pearson's Pairwise correlation of dataFrame columns\n",
    "corr = iris_df.corr()\n",
    "print(f\"\\n\\nPearson's Pairwise correlation of DataFrame columns\\n\\n {corr}\")\n",
    "\n",
    "#rank data\n",
    "ranks = iris_df.rank()\n",
    "print(f\"\\n{ranks}\")\n"
   ]
  },
  {
   "cell_type": "markdown",
   "metadata": {},
   "source": [
    "## Task 4b:  Apply\n",
    "\n",
    "Practice using `apply` on either the `df` or `iris_df` data frames using any two functions of your choice other than `print`, `type`, and `np.sum`."
   ]
  },
  {
   "cell_type": "code",
   "execution_count": 89,
   "metadata": {},
   "outputs": [
    {
     "name": "stdout",
     "output_type": "stream",
     "text": [
      "sepal_length       4.3\n",
      "sepal_width          2\n",
      "petal_length         1\n",
      "petal_width        0.1\n",
      "species         setosa\n",
      "dtype: object\n",
      "\n",
      "sepal_length    5.052381\n",
      "sepal_width     3.476190\n",
      "petal_length    1.447619\n",
      "petal_width     0.233333\n",
      "dtype: float64\n"
     ]
    }
   ],
   "source": [
    "#minimum values in each column\n",
    "min = iris_df.apply(np.min)\n",
    "print(min)\n",
    "\n",
    "iris_new = iris_df.loc [0:20 , 'sepal_length': 'petal_width']\n",
    "#mean of each column\n",
    "\n",
    "mean = iris_new.apply(np.mean)\n",
    "print(f\"\\n{mean}\")\n",
    "\n"
   ]
  },
  {
   "cell_type": "markdown",
   "metadata": {},
   "source": [
    "## Task 4c.  Occurances\n",
    "Ientify the number of occurances for each species (virginica, versicolor, setosa) in the `iris_df` object.  *Hint*: the `value_counts` function only works on a `pd.Series` object, not on the full data frame.."
   ]
  },
  {
   "cell_type": "code",
   "execution_count": 92,
   "metadata": {},
   "outputs": [
    {
     "data": {
      "text/plain": [
       "virginica     50\n",
       "versicolor    50\n",
       "setosa        50\n",
       "Name: species, dtype: int64"
      ]
     },
     "execution_count": 92,
     "metadata": {},
     "output_type": "execute_result"
    }
   ],
   "source": [
    "#turning species column in to a series\n",
    "species = iris_df.loc[:, 'species']\n",
    "\n",
    "#counting occurence of each species\n",
    "species.value_counts()"
   ]
  },
  {
   "cell_type": "markdown",
   "metadata": {},
   "source": [
    "## Task 5a: String Methods\n",
    "\n",
    "+ Create a list of five strings that represent dates in the form YYYY-MM-DD (e.g. 2020-02-20 for Feb 20th, 2020).\n",
    "+ Add this list of dates as a new column in the `df` dataframe.\n",
    "+ Now split the date into 3 new columns with one column representing the year, another the month and another they day.\n",
    "+ Combine the values from columns `alpha` and `beta` into a new column where the values are spearated with a colon.\n"
   ]
  },
  {
   "cell_type": "code",
   "execution_count": 25,
   "metadata": {},
   "outputs": [
    {
     "name": "stdout",
     "output_type": "stream",
     "text": [
      "<pandas.core.strings.StringMethods object at 0x0000017F7415BC10>\n"
     ]
    },
    {
     "name": "stderr",
     "output_type": "stream",
     "text": [
      "<ipython-input-25-17413cf78750>:3: FutureWarning: Columnar iteration over characters will be deprecated in future releases.\n",
      "  dates = df['Year'],df['Month'] , df['day'] = df['date'].str.split('-', 2).str\n"
     ]
    },
    {
     "data": {
      "text/html": [
       "<div>\n",
       "<style scoped>\n",
       "    .dataframe tbody tr th:only-of-type {\n",
       "        vertical-align: middle;\n",
       "    }\n",
       "\n",
       "    .dataframe tbody tr th {\n",
       "        vertical-align: top;\n",
       "    }\n",
       "\n",
       "    .dataframe thead th {\n",
       "        text-align: right;\n",
       "    }\n",
       "</style>\n",
       "<table border=\"1\" class=\"dataframe\">\n",
       "  <thead>\n",
       "    <tr style=\"text-align: right;\">\n",
       "      <th></th>\n",
       "      <th>alpha</th>\n",
       "      <th>beta</th>\n",
       "      <th>date</th>\n",
       "      <th>Year</th>\n",
       "      <th>Month</th>\n",
       "      <th>day</th>\n",
       "      <th>new</th>\n",
       "    </tr>\n",
       "  </thead>\n",
       "  <tbody>\n",
       "    <tr>\n",
       "      <th>0</th>\n",
       "      <td>0</td>\n",
       "      <td>a</td>\n",
       "      <td>1987-08-20</td>\n",
       "      <td>1987</td>\n",
       "      <td>08</td>\n",
       "      <td>20</td>\n",
       "      <td>0:a</td>\n",
       "    </tr>\n",
       "    <tr>\n",
       "      <th>1</th>\n",
       "      <td>1</td>\n",
       "      <td>b</td>\n",
       "      <td>2013-01-12</td>\n",
       "      <td>2013</td>\n",
       "      <td>01</td>\n",
       "      <td>12</td>\n",
       "      <td>1:b</td>\n",
       "    </tr>\n",
       "    <tr>\n",
       "      <th>2</th>\n",
       "      <td>2</td>\n",
       "      <td>c</td>\n",
       "      <td>2015-02-01</td>\n",
       "      <td>2015</td>\n",
       "      <td>02</td>\n",
       "      <td>01</td>\n",
       "      <td>2:c</td>\n",
       "    </tr>\n",
       "    <tr>\n",
       "      <th>3</th>\n",
       "      <td>3</td>\n",
       "      <td>d</td>\n",
       "      <td>2016-01-29</td>\n",
       "      <td>2016</td>\n",
       "      <td>01</td>\n",
       "      <td>29</td>\n",
       "      <td>3:d</td>\n",
       "    </tr>\n",
       "    <tr>\n",
       "      <th>4</th>\n",
       "      <td>4</td>\n",
       "      <td>e</td>\n",
       "      <td>2020-12-01</td>\n",
       "      <td>2020</td>\n",
       "      <td>12</td>\n",
       "      <td>01</td>\n",
       "      <td>4:e</td>\n",
       "    </tr>\n",
       "  </tbody>\n",
       "</table>\n",
       "</div>"
      ],
      "text/plain": [
       "  alpha beta        date  Year Month day  new\n",
       "0     0    a  1987-08-20  1987    08  20  0:a\n",
       "1     1    b  2013-01-12  2013    01  12  1:b\n",
       "2     2    c  2015-02-01  2015    02  01  2:c\n",
       "3     3    d  2016-01-29  2016    01  29  3:d\n",
       "4     4    e  2020-12-01  2020    12  01  4:e"
      ]
     },
     "execution_count": 25,
     "metadata": {},
     "output_type": "execute_result"
    }
   ],
   "source": [
    "date = ['1987-08-20', '2013-01-12', '2015-02-01', '2016-01-29', '2020-12-01']\n",
    "df['date'] = date\n",
    "df['Year'],df['Month'] , df['day'] = df['date'].str.split('-', 2).str\n",
    "\n",
    "print(dates)\n",
    "\n",
    "df['alpha']= df['alpha'].astype(str) \n",
    "df['new'] = df['alpha'] + ':' + df['beta']\n",
    "\n",
    "df"
   ]
  },
  {
   "cell_type": "markdown",
   "metadata": {},
   "source": [
    "## Task 6a: Concatenation by Rows\n",
    "+ Create the following dataframe\n",
    "```Python\n",
    "df1 = pd.DataFrame(\n",
    "    {'alpha': [0, 1, 2, 3, 4],\n",
    "     'beta': ['a', 'b', 'c', 'd', 'e']}, index = ['I1', 'I2' ,'I3', 'I4', 'I5'])\n",
    "```\n",
    "+ Create a new dataframe named `df2` with column names \"delta\" and \"gamma\" that contins 5 rows with some index names that overlap with the `df1` dataframe and some that do not.\n",
    "+ Concatenate the two dataframes by rows and print the result.\n",
    "+ You should see the two have combined one after the other, but there should also be missing values added. \n",
    "+ Explain why there are missing values.\n"
   ]
  },
  {
   "cell_type": "code",
   "execution_count": 52,
   "metadata": {},
   "outputs": [
    {
     "name": "stdout",
     "output_type": "stream",
     "text": [
      "    alpha beta  delta gamma\n",
      "I1    0.0    a    NaN   NaN\n",
      "I2    1.0    b    NaN   NaN\n",
      "I3    2.0    c    NaN   NaN\n",
      "I4    3.0    d    NaN   NaN\n",
      "I5    4.0    e    NaN   NaN\n",
      "I1    NaN  NaN   10.0     s\n",
      "I2    NaN  NaN   20.0     t\n",
      "I4    NaN  NaN   30.0     u\n",
      "I7    NaN  NaN   40.0     v\n",
      "I8    NaN  NaN   50.0     w\n"
     ]
    }
   ],
   "source": [
    "df1 = pd.DataFrame(\n",
    "    {'alpha': [0, 1, 2, 3, 4],\n",
    "     'beta': ['a', 'b', 'c', 'd', 'e']}, index = ['I1', 'I2' ,'I3', 'I4', 'I5'])\n",
    "\n",
    "df2 = pd.DataFrame(\n",
    "{'delta': [10, 20, 30, 40, 50], \n",
    "'gamma': ['s', 't', 'u', 'v', 'w']}, index = ['I1', 'I2', 'I4', 'I7', 'I8'])\n",
    "\n",
    "subset = [df1, df2]\n",
    "\n",
    "new_df = pd.concat(subset)\n",
    "print(new_df)\n",
    "\n",
    "#there are missing values as the column names of the two data frames have different columns and therefore data cannot be combined under column names"
   ]
  },
  {
   "cell_type": "markdown",
   "metadata": {},
   "source": [
    "## Task 6b: Concatenation by Columns\n",
    "\n",
    "Using the same dataframes, df1 and df2, from Task 6a practice:\n",
    "+ Concatenate the two by columns\n",
    "+ Add a \"delta\" column to `df1` and concatenate by columns such that there are 5 columns in the merged dataframe.\n",
    "+ Respond in writing to this question (add a new 'raw' cell to contain your answer). What will happen if using you had performed an inner join while concatenating?  \n",
    "+ Try the concatenation with the inner join to see if you are correct."
   ]
  },
  {
   "cell_type": "code",
   "execution_count": 53,
   "metadata": {},
   "outputs": [
    {
     "name": "stdout",
     "output_type": "stream",
     "text": [
      "    alpha beta  delta gamma\n",
      "I1    0.0    a   10.0     s\n",
      "I2    1.0    b   20.0     t\n",
      "I3    2.0    c    NaN   NaN\n",
      "I4    3.0    d   30.0     u\n",
      "I5    4.0    e    NaN   NaN\n",
      "I7    NaN  NaN   40.0     v\n",
      "I8    NaN  NaN   50.0     w\n"
     ]
    }
   ],
   "source": [
    "by_col = pd.concat([df1, df2], axis = 1)\n",
    "print(by_col)"
   ]
  },
  {
   "cell_type": "code",
   "execution_count": 50,
   "metadata": {},
   "outputs": [
    {
     "name": "stdout",
     "output_type": "stream",
     "text": [
      "    alpha beta  delta  delta gamma\n",
      "I1    0.0    a   18.0   10.0     s\n",
      "I2    1.0    b   23.0   20.0     t\n",
      "I3    2.0    c   34.0    NaN   NaN\n",
      "I4    3.0    d   35.0   30.0     u\n",
      "I5    4.0    e   56.0    NaN   NaN\n",
      "I7    NaN  NaN    NaN   40.0     v\n",
      "I8    NaN  NaN    NaN   50.0     w\n"
     ]
    }
   ],
   "source": [
    "df1['delta'] = [18, 23 ,34, 35 ,56 ]\n",
    "\n",
    "\n",
    "by_col2 = pd.concat([df1, df2], axis = 1)\n",
    "print(by_col2)"
   ]
  },
  {
   "cell_type": "raw",
   "metadata": {},
   "source": [
    "If an inner join is performed while concatanating , it will remove all rows with missing values(NaNs)"
   ]
  },
  {
   "cell_type": "code",
   "execution_count": 49,
   "metadata": {},
   "outputs": [
    {
     "name": "stdout",
     "output_type": "stream",
     "text": [
      "    alpha beta  delta  delta gamma\n",
      "I1      0    a     18     10     s\n",
      "I2      1    b     23     20     t\n",
      "I4      3    d     35     30     u\n"
     ]
    }
   ],
   "source": [
    "by_col3 = pd.concat([df1, df2], axis = 1, join = 'inner')\n",
    "print(by_col3)\n"
   ]
  },
  {
   "cell_type": "markdown",
   "metadata": {},
   "source": [
    "#### Task 6c: Concat and append data frames\n",
    "<span style=\"float:right; margin-left:10px; clear:both;\">![Task](./media/task-icon.png)</span>\n",
    "\n",
    "+ Create a new 5x5 dataframe full of random numbers.\n",
    "+ Create a new 5x10 dataframe full of 1's.\n",
    "+ Append one to the other and print it.\n",
    "+ Append a single Series of zeros to the end of the appended dataframe.\n"
   ]
  },
  {
   "cell_type": "code",
   "execution_count": 56,
   "metadata": {},
   "outputs": [
    {
     "name": "stdout",
     "output_type": "stream",
     "text": [
      "          0         1         2         3         4    5    6    7    8    9\n",
      "0  0.197484  0.022803  0.482100  0.901504  0.626579  NaN  NaN  NaN  NaN  NaN\n",
      "1  0.231891  0.361008  0.358579  0.277772  0.218442  NaN  NaN  NaN  NaN  NaN\n",
      "2  0.997570  0.285746  0.058710  0.920014  0.937908  NaN  NaN  NaN  NaN  NaN\n",
      "3  0.902360  0.527081  0.080222  0.931797  0.590358  NaN  NaN  NaN  NaN  NaN\n",
      "4  0.588865  0.641294  0.047656  0.422949  0.373899  NaN  NaN  NaN  NaN  NaN\n",
      "5  1.000000  1.000000  1.000000  1.000000  1.000000  1.0  1.0  1.0  1.0  1.0\n",
      "6  1.000000  1.000000  1.000000  1.000000  1.000000  1.0  1.0  1.0  1.0  1.0\n",
      "7  1.000000  1.000000  1.000000  1.000000  1.000000  1.0  1.0  1.0  1.0  1.0\n",
      "8  1.000000  1.000000  1.000000  1.000000  1.000000  1.0  1.0  1.0  1.0  1.0\n",
      "9  1.000000  1.000000  1.000000  1.000000  1.000000  1.0  1.0  1.0  1.0  1.0\n"
     ]
    }
   ],
   "source": [
    "new_data = pd.DataFrame(np.random.random((5, 5)))\n",
    "new_ones = pd.DataFrame(np.ones((5, 10)))\n",
    "appended_data = new_data.append(new_ones, ignore_index = True)\n",
    "print(appended_data)"
   ]
  },
  {
   "cell_type": "code",
   "execution_count": 60,
   "metadata": {},
   "outputs": [
    {
     "name": "stdout",
     "output_type": "stream",
     "text": [
      "           0         1         2         3         4    5    6    7    8    9\n",
      "0   0.197484  0.022803  0.482100  0.901504  0.626579  NaN  NaN  NaN  NaN  NaN\n",
      "1   0.231891  0.361008  0.358579  0.277772  0.218442  NaN  NaN  NaN  NaN  NaN\n",
      "2   0.997570  0.285746  0.058710  0.920014  0.937908  NaN  NaN  NaN  NaN  NaN\n",
      "3   0.902360  0.527081  0.080222  0.931797  0.590358  NaN  NaN  NaN  NaN  NaN\n",
      "4   0.588865  0.641294  0.047656  0.422949  0.373899  NaN  NaN  NaN  NaN  NaN\n",
      "5   1.000000  1.000000  1.000000  1.000000  1.000000  1.0  1.0  1.0  1.0  1.0\n",
      "6   1.000000  1.000000  1.000000  1.000000  1.000000  1.0  1.0  1.0  1.0  1.0\n",
      "7   1.000000  1.000000  1.000000  1.000000  1.000000  1.0  1.0  1.0  1.0  1.0\n",
      "8   1.000000  1.000000  1.000000  1.000000  1.000000  1.0  1.0  1.0  1.0  1.0\n",
      "9   1.000000  1.000000  1.000000  1.000000  1.000000  1.0  1.0  1.0  1.0  1.0\n",
      "10  0.000000  0.000000  0.000000  0.000000  0.000000  0.0  0.0  0.0  0.0  0.0\n"
     ]
    }
   ],
   "source": [
    "zeros = pd.Series(np.zeros(10))\n",
    "appended_data2 = appended_data.append(zeros, ignore_index = True)\n",
    "print(appended_data2)"
   ]
  },
  {
   "cell_type": "markdown",
   "metadata": {},
   "source": [
    "## Task 6d: Grouping\n",
    "\n",
    "Demonstrate a `groupby`.\n",
    "\n",
    "+ Create a new column with the label \"region\" in the iris data frame. This column will indicates geographic regions of the US where measurments were taken. Values should include:  'Southeast', 'Northeast', 'Midwest', 'Southwest', 'Northwest'. Use these randomly.\n",
    "+ Use `groupby` to get a new data frame of means for each species in each region.\n",
    "+ Add a `dev_stage` column by randomly selecting from the values \"early\" and \"late\".\n",
    "+ Use `groupby` to get a new data frame of means for each species,in each region and each development stage.\n",
    "+ Use the `count` function (just like you used the `mean` function) to identify how many rows in the table belong to each combination of species + region + developmental stage."
   ]
  },
  {
   "cell_type": "code",
   "execution_count": 71,
   "metadata": {},
   "outputs": [
    {
     "name": "stdout",
     "output_type": "stream",
     "text": [
      "Means of species           sepal_length  sepal_width  petal_length  petal_width\n",
      "region                                                         \n",
      "Midwest        5.905263     3.063158      4.000000     1.336842\n",
      "Northeast      5.831579     3.047368      3.873684     1.163158\n",
      "Northwest      5.850000     3.143333      3.486667     1.060000\n",
      "Southeast      5.814286     3.031429      3.814286     1.245714\n",
      "Southwest      5.796429     2.978571      3.575000     1.125000\n"
     ]
    }
   ],
   "source": [
    "iris_df['region'] = np.random.choice(['Southeast', 'Northeast', 'Midwest', 'Southwest', 'Northwest'],iris_df.shape[0])\n",
    "\n",
    "groups = iris_df.groupby('region')\n",
    "means_f_species = groups.mean()\n",
    "print(f\"Means of species{means_f_species}\")"
   ]
  },
  {
   "cell_type": "code",
   "execution_count": 75,
   "metadata": {},
   "outputs": [
    {
     "name": "stdout",
     "output_type": "stream",
     "text": [
      "Means of species by two groupings                      sepal_length  sepal_width  petal_length  petal_width\n",
      "region    dev_stage                                                      \n",
      "Midwest   early          5.733333     3.053333      3.566667     1.133333\n",
      "          late           6.017391     3.069565      4.282609     1.469565\n",
      "Northeast early          5.483333     3.108333      3.091667     0.791667\n",
      "          late           6.428571     2.942857      5.214286     1.800000\n",
      "Northwest early          5.656250     3.206250      3.106250     0.893750\n",
      "          late           6.071429     3.071429      3.921429     1.250000\n",
      "Southeast early          5.907692     3.076923      3.661538     1.200000\n",
      "          late           5.759091     3.004545      3.904545     1.272727\n",
      "Southwest early          5.746154     2.938462      3.592308     1.176923\n",
      "          late           5.840000     3.013333      3.560000     1.080000\n"
     ]
    }
   ],
   "source": [
    "iris_df['dev_stage'] = np.random.choice(['early', 'late'], iris_df.shape[0])\n",
    "\n",
    "new_groups = iris_df.groupby(['region', 'dev_stage'])\n",
    "new_means = new_groups.mean()\n",
    "print(f\"Means of species by two groupings {new_means}\")"
   ]
  },
  {
   "cell_type": "code",
   "execution_count": 79,
   "metadata": {},
   "outputs": [
    {
     "name": "stdout",
     "output_type": "stream",
     "text": [
      "The row counts are:\n",
      "\n",
      "                                sepal_length  sepal_width  petal_length  \\\n",
      "region    dev_stage species                                               \n",
      "Midwest   early     setosa                 6            6             6   \n",
      "                    versicolor             4            4             4   \n",
      "                    virginica              5            5             5   \n",
      "          late      setosa                 5            5             5   \n",
      "                    versicolor             7            7             7   \n",
      "                    virginica             11           11            11   \n",
      "Northeast early     setosa                 6            6             6   \n",
      "                    versicolor             5            5             5   \n",
      "                    virginica              1            1             1   \n",
      "          late      versicolor             3            3             3   \n",
      "                    virginica              4            4             4   \n",
      "Northwest early     setosa                 7            7             7   \n",
      "                    versicolor             6            6             6   \n",
      "                    virginica              3            3             3   \n",
      "          late      setosa                 5            5             5   \n",
      "                    versicolor             2            2             2   \n",
      "                    virginica              7            7             7   \n",
      "Southeast early     setosa                 5            5             5   \n",
      "                    versicolor             4            4             4   \n",
      "                    virginica              4            4             4   \n",
      "          late      setosa                 6            6             6   \n",
      "                    versicolor             9            9             9   \n",
      "                    virginica              7            7             7   \n",
      "Southwest early     setosa                 4            4             4   \n",
      "                    versicolor             5            5             5   \n",
      "                    virginica              4            4             4   \n",
      "          late      setosa                 6            6             6   \n",
      "                    versicolor             5            5             5   \n",
      "                    virginica              4            4             4   \n",
      "\n",
      "                                petal_width  \n",
      "region    dev_stage species                  \n",
      "Midwest   early     setosa                6  \n",
      "                    versicolor            4  \n",
      "                    virginica             5  \n",
      "          late      setosa                5  \n",
      "                    versicolor            7  \n",
      "                    virginica            11  \n",
      "Northeast early     setosa                6  \n",
      "                    versicolor            5  \n",
      "                    virginica             1  \n",
      "          late      versicolor            3  \n",
      "                    virginica             4  \n",
      "Northwest early     setosa                7  \n",
      "                    versicolor            6  \n",
      "                    virginica             3  \n",
      "          late      setosa                5  \n",
      "                    versicolor            2  \n",
      "                    virginica             7  \n",
      "Southeast early     setosa                5  \n",
      "                    versicolor            4  \n",
      "                    virginica             4  \n",
      "          late      setosa                6  \n",
      "                    versicolor            9  \n",
      "                    virginica             7  \n",
      "Southwest early     setosa                4  \n",
      "                    versicolor            5  \n",
      "                    virginica             4  \n",
      "          late      setosa                6  \n",
      "                    versicolor            5  \n",
      "                    virginica             4  \n"
     ]
    }
   ],
   "source": [
    "third_group = iris_df.groupby(['region', 'dev_stage', 'species'])\n",
    "count = third_group.count()\n",
    "print(f\"The row counts are:\\n\\n{count}\")"
   ]
  }
 ],
 "metadata": {
  "kernelspec": {
   "display_name": "Python 3",
   "language": "python",
   "name": "python3"
  },
  "language_info": {
   "codemirror_mode": {
    "name": "ipython",
    "version": 3
   },
   "file_extension": ".py",
   "mimetype": "text/x-python",
   "name": "python",
   "nbconvert_exporter": "python",
   "pygments_lexer": "ipython3",
   "version": "3.8.5"
  }
 },
 "nbformat": 4,
 "nbformat_minor": 4
}
